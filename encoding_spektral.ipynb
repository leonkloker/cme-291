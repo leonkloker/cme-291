{
 "cells": [
  {
   "cell_type": "code",
   "execution_count": null,
   "metadata": {},
   "outputs": [],
   "source": [
    "import numpy as np\n",
    "\n",
    "from copy import deepcopy\n",
    "from scipy.sparse import csr_array, csr_matrix, save_npz"
   ]
  },
  {
   "cell_type": "code",
   "execution_count": null,
   "metadata": {},
   "outputs": [],
   "source": [
    "data_path = \"../data/mcb-7/ibmq_belem/Pauli_Stochastic/\"\n",
    "x_path = data_path + \"circuits/all_circuits_11.npz\"\n",
    "y_path = data_path + \"sps/none_Shots/sps_all_circuits_none_shots_11.npz\""
   ]
  },
  {
   "cell_type": "code",
   "execution_count": null,
   "metadata": {},
   "outputs": [],
   "source": [
    "x_data = np.load(x_path)\n",
    "x_train = x_data[\"train\"]\n",
    "x_val = x_data[\"validate\"]\n",
    "x_test = x_data[\"test\"]\n",
    "\n",
    "y_data = np.load(y_path)\n",
    "y_train = y_data[\"train\"]\n",
    "y_val = y_data[\"validate\"]\n",
    "y_test = y_data[\"test\"]"
   ]
  },
  {
   "cell_type": "code",
   "execution_count": null,
   "metadata": {},
   "outputs": [],
   "source": [
    "def transform_data(numpy_encoding, qubit_adjacency=[[0,1], [1,2], [1,3], [3,4]]):\n",
    "    \"\"\" Takes the 3-tensor numpy encoding of one quantum circuit and the architecture of a quantum computer\n",
    "    and calculates the 2-tensor encoding of shape (nqubits*nmoments, dim_gate_vector), -1 padded adjacency array\n",
    "    and global features of the circuit. \n",
    "    \"\"\"\n",
    "\n",
    "    # compute number of moments of quantum circuit\n",
    "    nmoments = np.where(np.sum((numpy_encoding != 0), axis=(0,2)) == 0)[0]\n",
    "    if len(nmoments) == 0:\n",
    "        nmoments = numpy_encoding.shape[1]\n",
    "    else:\n",
    "        nmoments = nmoments[0]\n",
    "\n",
    "    # number of qubits\n",
    "    nqubits = numpy_encoding.shape[0]\n",
    "\n",
    "    # dimensionality of the gate vector\n",
    "    dim_node_state = numpy_encoding.shape[2]\n",
    "\n",
    "    # compute adjacency list for given architecture and amount of moments\n",
    "    architecture = []\n",
    "    for i in range(nqubits):\n",
    "        architecture.append([])\n",
    "    for edge in qubit_adjacency:\n",
    "        architecture[edge[0]].append(edge[1])\n",
    "        architecture[edge[1]].append(edge[0])\n",
    "    adjacency = deepcopy(architecture)\n",
    "    for l in range(1, nmoments):\n",
    "        for i in range(0, nqubits):\n",
    "            adjacency[-1-i].append(len(adjacency)-1-i+nqubits)\n",
    "            \n",
    "        new_layer = [[n+l*nqubits for n in node] for node in architecture]\n",
    "        for i in range(0, nqubits):\n",
    "            new_layer[-1-i].append(len(adjacency)-1-i)\n",
    "\n",
    "        adjacency = adjacency + new_layer\n",
    "\n",
    "    rows = []\n",
    "    cols = []\n",
    "    for i in range(len(adjacency)):\n",
    "        for j in range(len(adjacency[i])):\n",
    "            rows.append(i)\n",
    "            cols.append(adjacency[i][j])\n",
    "    rows = np.array(rows)\n",
    "    cols = np.array(cols)\n",
    "    val = np.ones(len(rows))\n",
    "    a = csr_array((val,(rows,cols)), shape=(nqubits*nmoments, nqubits*nmoments))\n",
    "\n",
    "    # compute data 2-tensor with shape (nqubits*nmoments, dim_node_state)\n",
    "    x = np.transpose(numpy_encoding[:,:nmoments,:], axes=(1,0,2)).reshape(nqubits*nmoments, dim_node_state)\n",
    "\n",
    "    # compute global features of quantum circuit\n",
    "    nZ = np.sum(x[:,0] != 0)\n",
    "    nX = np.sum(x[:,1] != 0)\n",
    "    nSX = np.sum(x[:,2] != 0)\n",
    "    nCNOT = np.sum(np.any(x[:,3:7] != 0, axis=-1))\n",
    "    gf = np.array([nmoments, nqubits, nZ, nX, nSX, nCNOT]).reshape(1,6)\n",
    "\n",
    "    return x, a, gf"
   ]
  },
  {
   "cell_type": "code",
   "execution_count": null,
   "metadata": {},
   "outputs": [],
   "source": [
    "global_features_mean = np.zeros((1,6))\n",
    "global_features_std = np.zeros((1,6))\n",
    "train_transformed = []"
   ]
  },
  {
   "cell_type": "code",
   "execution_count": null,
   "metadata": {},
   "outputs": [],
   "source": [
    "# calculate mean values of the global features in the training data\n",
    "for circuit, y in zip(x_train, y_train):\n",
    "    x, a, gf = transform_data(circuit)\n",
    "    train_transformed.append([x, a, gf, y])\n",
    "    global_features_mean = global_features_mean + gf\n",
    "global_features_mean = global_features_mean / y_train.size\n",
    "\n",
    "# calculate std of the global features in the training data\n",
    "for elem in train_transformed:\n",
    "    global_features_std = global_features_std + np.square(elem[2] - global_features_mean)\n",
    "global_features_std = np.sqrt(global_features_std / y_train.size)\n",
    "\n",
    "# fix division by zero for normalization\n",
    "global_features_std[global_features_std == 0] = 1"
   ]
  },
  {
   "cell_type": "code",
   "execution_count": null,
   "metadata": {},
   "outputs": [],
   "source": [
    "datasets = [x_train, x_val, x_test]\n",
    "labels = [y_train, y_val, y_test]\n",
    "names = [\"train\", \"validation\", \"test\"]\n",
    "\n",
    "# save transformed dataset to file\n",
    "for i in range(len(datasets)):\n",
    "    for j, (x, y) in enumerate(zip(datasets[i], labels[i])):\n",
    "        x, a, gf = transform_data(x)\n",
    "\n",
    "        # pad global features and prepend them to graph features\n",
    "        # as spectral doesnt allow graph.x, graph.a and graph.global_features\n",
    "        # as model input\n",
    "        z = np.zeros((1,x.shape[1]))\n",
    "        z[0,:gf.size] = (gf - global_features_mean)/global_features_std\n",
    "        x = np.concatenate([z, x], axis=0)\n",
    "        \n",
    "        np.savez(\"dataset/\"+names[i]+\"/graph_{}.npz\".format(j), x=x, y=y)\n",
    "        save_npz(\"dataset/\"+names[i]+\"/adjacency_{}.npz\".format(j), a)"
   ]
  }
 ],
 "metadata": {
  "kernelspec": {
   "display_name": "XPLORE",
   "language": "python",
   "name": "python3"
  },
  "language_info": {
   "codemirror_mode": {
    "name": "ipython",
    "version": 3
   },
   "file_extension": ".py",
   "mimetype": "text/x-python",
   "name": "python",
   "nbconvert_exporter": "python",
   "pygments_lexer": "ipython3",
   "version": "3.9.16"
  },
  "orig_nbformat": 4,
  "vscode": {
   "interpreter": {
    "hash": "60a5397fe5451e64d14e93fd677a2f02374b8d13c98c13b8d5c7089a422e322e"
   }
  }
 },
 "nbformat": 4,
 "nbformat_minor": 2
}
