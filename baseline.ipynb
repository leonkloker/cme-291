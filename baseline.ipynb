{
 "cells": [
  {
   "cell_type": "code",
   "execution_count": null,
   "metadata": {},
   "outputs": [],
   "source": [
    "import datetime\n",
    "import numpy as np\n",
    "import os\n",
    "import pandas as pd\n",
    "import spektral\n",
    "import tensorflow as tf\n",
    "import tensorflow_addons as tfa\n",
    "\n",
    "from keras.callbacks import EarlyStopping, ModelCheckpoint, ReduceLROnPlateau\n",
    "from keras.engine.input_layer import InputLayer\n",
    "from keras.models import load_model\n",
    "from keras.layers import Activation\n",
    "from keras import backend as K\n",
    "from scipy.sparse import csr_array, csr_matrix, load_npz\n",
    "\n",
    "tf.keras.backend.set_floatx('float32')"
   ]
  },
  {
   "cell_type": "code",
   "execution_count": null,
   "metadata": {},
   "outputs": [],
   "source": [
    "class GraphDataset(spektral.data.Dataset):\n",
    "    def __init__(self, path, **kwargs):\n",
    "        self.data_path = path\n",
    "        super().__init__(**kwargs)\n",
    "\n",
    "    def read(self):\n",
    "        output = []\n",
    "        for i in range(int(len(os.listdir(self.data_path))/2)):\n",
    "            graph = np.load(self.data_path + \"graph_{}.npz\".format(i))\n",
    "            adjacency = load_npz(self.data_path + \"adjacency_{}.npz\".format(i))\n",
    "            output.append(spektral.data.graph.Graph(x=graph['x'],\n",
    "                                                    a=adjacency,\n",
    "                                                    y=graph['y']))\n",
    "        return output"
   ]
  },
  {
   "cell_type": "code",
   "execution_count": null,
   "metadata": {},
   "outputs": [],
   "source": [
    "train_data = GraphDataset(\"dataset/train/\")\n",
    "test_data = GraphDataset(\"dataset/test/\")\n",
    "val_data = GraphDataset(\"dataset/validation/\")"
   ]
  },
  {
   "cell_type": "code",
   "execution_count": null,
   "metadata": {},
   "outputs": [],
   "source": [
    "def get_generator(dataset):\n",
    "    def data_generator():\n",
    "        for graph in dataset:\n",
    "            yield graph.x[0,:6], graph.y\n",
    "    return data_generator"
   ]
  },
  {
   "cell_type": "code",
   "execution_count": null,
   "metadata": {},
   "outputs": [],
   "source": [
    "train_ds = tf.data.Dataset.from_generator(get_generator(train_data), \n",
    "                                          output_signature=(tf.TensorSpec(shape=6, dtype=tf.float32),\n",
    "                                                            tf.TensorSpec(shape=(), dtype=tf.float32)))\n",
    "val_ds = tf.data.Dataset.from_generator(get_generator(val_data),\n",
    "                                        output_signature=(tf.TensorSpec(shape=6, dtype=tf.float32),\n",
    "                                                            tf.TensorSpec(shape=(), dtype=tf.float32)))\n",
    "test_ds = tf.data.Dataset.from_generator(get_generator(test_data),\n",
    "                                         output_signature=(tf.TensorSpec(shape=6, dtype=tf.float32),\n",
    "                                                            tf.TensorSpec(shape=(), dtype=tf.float32)))\n",
    "\n",
    "train_ds = train_ds.batch(64)\n",
    "val_ds = val_ds.batch(64)\n",
    "test_ds = test_ds.batch(64)"
   ]
  },
  {
   "cell_type": "code",
   "execution_count": null,
   "metadata": {},
   "outputs": [],
   "source": [
    "model = tf.keras.Sequential([\n",
    "    tf.keras.layers.Dense(12, activation=\"relu\"),\n",
    "    tf.keras.layers.Dense(12, activation=\"relu\"),\n",
    "    tf.keras.layers.Dense(6, activation=\"relu\"),\n",
    "    tf.keras.layers.Dense(128, activation=\"relu\"),\n",
    "    tf.keras.layers.Dense(128, activation=\"relu\"),\n",
    "    tf.keras.layers.Dense(1, activation=\"sigmoid\"),\n",
    "])"
   ]
  },
  {
   "cell_type": "code",
   "execution_count": null,
   "metadata": {},
   "outputs": [],
   "source": [
    "model.compile(optimizer=tf.optimizers.Adam(learning_rate=1e-3),\n",
    "              loss=tf.keras.losses.BinaryCrossentropy(),\n",
    "              metrics=[tf.keras.losses.MeanSquaredError(), tf.keras.metrics.MeanAbsoluteError()])"
   ]
  },
  {
   "cell_type": "code",
   "execution_count": null,
   "metadata": {},
   "outputs": [],
   "source": [
    "log_dir = \"logs/baseline_rightencoding/\"\n",
    "log_dir_train = log_dir + datetime.datetime.now().strftime(\"%Y%m%d-%H%M%S\")\n",
    "tensorboard = tf.keras.callbacks.TensorBoard(log_dir=log_dir_train, histogram_freq=1)\n",
    "early_stopping = EarlyStopping(monitor='val_loss',\n",
    "                               restore_best_weights=True, patience=50,\n",
    "                               verbose=0, mode='min')"
   ]
  },
  {
   "cell_type": "code",
   "execution_count": null,
   "metadata": {},
   "outputs": [],
   "source": [
    "model.fit(train_ds,\n",
    "          epochs=50,\n",
    "          validation_data=val_ds,\n",
    "          callbacks=[tensorboard, early_stopping],\n",
    "          verbose=1)"
   ]
  },
  {
   "cell_type": "code",
   "execution_count": null,
   "metadata": {},
   "outputs": [],
   "source": [
    "model.summary()"
   ]
  },
  {
   "cell_type": "code",
   "execution_count": null,
   "metadata": {},
   "outputs": [],
   "source": [
    "model.save_weights(log_dir + \"model_weights\")"
   ]
  }
 ],
 "metadata": {
  "kernelspec": {
   "display_name": "XPLORE",
   "language": "python",
   "name": "python3"
  },
  "language_info": {
   "codemirror_mode": {
    "name": "ipython",
    "version": 3
   },
   "file_extension": ".py",
   "mimetype": "text/x-python",
   "name": "python",
   "nbconvert_exporter": "python",
   "pygments_lexer": "ipython3",
   "version": "3.9.16"
  },
  "orig_nbformat": 4
 },
 "nbformat": 4,
 "nbformat_minor": 2
}
