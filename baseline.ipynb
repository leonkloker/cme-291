{
 "cells": [
  {
   "cell_type": "code",
   "execution_count": 1,
   "metadata": {},
   "outputs": [
    {
     "name": "stderr",
     "output_type": "stream",
     "text": [
      "2023-03-15 07:33:02.843329: I tensorflow/core/platform/cpu_feature_guard.cc:193] This TensorFlow binary is optimized with oneAPI Deep Neural Network Library (oneDNN) to use the following CPU instructions in performance-critical operations:  AVX2 AVX512F AVX512_VNNI FMA\n",
      "To enable them in other operations, rebuild TensorFlow with the appropriate compiler flags.\n",
      "2023-03-15 07:33:03.461458: I tensorflow/core/util/port.cc:104] oneDNN custom operations are on. You may see slightly different numerical results due to floating-point round-off errors from different computation orders. To turn them off, set the environment variable `TF_ENABLE_ONEDNN_OPTS=0`.\n",
      "2023-03-15 07:33:06.418000: W tensorflow/compiler/xla/stream_executor/platform/default/dso_loader.cc:64] Could not load dynamic library 'libnvinfer.so.7'; dlerror: libnvinfer.so.7: cannot open shared object file: No such file or directory\n",
      "2023-03-15 07:33:06.420598: W tensorflow/compiler/xla/stream_executor/platform/default/dso_loader.cc:64] Could not load dynamic library 'libnvinfer_plugin.so.7'; dlerror: libnvinfer_plugin.so.7: cannot open shared object file: No such file or directory\n",
      "2023-03-15 07:33:06.420645: W tensorflow/compiler/tf2tensorrt/utils/py_utils.cc:38] TF-TRT Warning: Cannot dlopen some TensorRT libraries. If you would like to use Nvidia GPU with TensorRT, please make sure the missing libraries mentioned above are installed properly.\n"
     ]
    }
   ],
   "source": [
    "import datetime\n",
    "import numpy as np\n",
    "import os\n",
    "import pandas as pd\n",
    "import spektral\n",
    "import tensorflow as tf\n",
    "import tensorflow_addons as tfa\n",
    "\n",
    "from keras.callbacks import EarlyStopping, ModelCheckpoint, ReduceLROnPlateau\n",
    "from keras.engine.input_layer import InputLayer\n",
    "from keras.models import load_model\n",
    "from keras.layers import Activation\n",
    "from keras import backend as K\n",
    "from scipy.sparse import csr_array, csr_matrix, load_npz\n",
    "\n",
    "tf.keras.backend.set_floatx('float32')"
   ]
  },
  {
   "cell_type": "code",
   "execution_count": 2,
   "metadata": {},
   "outputs": [],
   "source": [
    "class GraphDataset(spektral.data.Dataset):\n",
    "    def __init__(self, path, **kwargs):\n",
    "        self.data_path = path\n",
    "        super().__init__(**kwargs)\n",
    "\n",
    "    def read(self):\n",
    "        output = []\n",
    "        for i in range(int(len(os.listdir(self.data_path))/2)):\n",
    "            graph = np.load(self.data_path + \"graph_{}.npz\".format(i))\n",
    "            adjacency = load_npz(self.data_path + \"adjacency_{}.npz\".format(i))\n",
    "            output.append(spektral.data.graph.Graph(x=graph['x'],\n",
    "                                                    a=adjacency,\n",
    "                                                    y=graph['y']))\n",
    "        return output"
   ]
  },
  {
   "cell_type": "code",
   "execution_count": 3,
   "metadata": {},
   "outputs": [],
   "source": [
    "train_data = GraphDataset(\"dataset/train/\")\n",
    "test_data = GraphDataset(\"dataset/test/\")\n",
    "val_data = GraphDataset(\"dataset/validation/\")"
   ]
  },
  {
   "cell_type": "code",
   "execution_count": 4,
   "metadata": {},
   "outputs": [],
   "source": [
    "def get_generator(dataset):\n",
    "    def data_generator():\n",
    "        for graph in dataset:\n",
    "            yield graph.x[0,:6], graph.y\n",
    "    return data_generator"
   ]
  },
  {
   "cell_type": "code",
   "execution_count": 5,
   "metadata": {},
   "outputs": [
    {
     "name": "stderr",
     "output_type": "stream",
     "text": [
      "2023-03-15 07:35:32.151046: W tensorflow/compiler/xla/stream_executor/platform/default/dso_loader.cc:64] Could not load dynamic library 'libcuda.so.1'; dlerror: libcuda.so.1: cannot open shared object file: No such file or directory\n",
      "2023-03-15 07:35:32.151107: W tensorflow/compiler/xla/stream_executor/cuda/cuda_driver.cc:265] failed call to cuInit: UNKNOWN ERROR (303)\n",
      "2023-03-15 07:35:32.151153: I tensorflow/compiler/xla/stream_executor/cuda/cuda_diagnostics.cc:156] kernel driver does not appear to be running on this host (icme-gpu1): /proc/driver/nvidia/version does not exist\n",
      "2023-03-15 07:35:32.158450: I tensorflow/core/platform/cpu_feature_guard.cc:193] This TensorFlow binary is optimized with oneAPI Deep Neural Network Library (oneDNN) to use the following CPU instructions in performance-critical operations:  AVX2 AVX512F AVX512_VNNI FMA\n",
      "To enable them in other operations, rebuild TensorFlow with the appropriate compiler flags.\n"
     ]
    }
   ],
   "source": [
    "train_ds = tf.data.Dataset.from_generator(get_generator(train_data), \n",
    "                                          output_signature=(tf.TensorSpec(shape=6, dtype=tf.float32),\n",
    "                                                            tf.TensorSpec(shape=(), dtype=tf.float32)))\n",
    "val_ds = tf.data.Dataset.from_generator(get_generator(val_data),\n",
    "                                        output_signature=(tf.TensorSpec(shape=6, dtype=tf.float32),\n",
    "                                                            tf.TensorSpec(shape=(), dtype=tf.float32)))\n",
    "test_ds = tf.data.Dataset.from_generator(get_generator(test_data),\n",
    "                                         output_signature=(tf.TensorSpec(shape=6, dtype=tf.float32),\n",
    "                                                            tf.TensorSpec(shape=(), dtype=tf.float32)))\n",
    "\n",
    "train_ds = train_ds.batch(64)\n",
    "val_ds = val_ds.batch(64)\n",
    "test_ds = test_ds.batch(64)"
   ]
  },
  {
   "cell_type": "code",
   "execution_count": 27,
   "metadata": {},
   "outputs": [],
   "source": [
    "model = tf.keras.Sequential([\n",
    "    tf.keras.layers.Dense(12, activation=\"relu\"),\n",
    "    tf.keras.layers.Dense(12, activation=\"relu\"),\n",
    "    tf.keras.layers.Dense(6, activation=\"relu\"),\n",
    "    tf.keras.layers.Dense(128, activation=\"relu\"),\n",
    "    tf.keras.layers.Dense(128, activation=\"relu\"),\n",
    "    tf.keras.layers.Dense(1, activation=\"sigmoid\"),\n",
    "])"
   ]
  },
  {
   "cell_type": "code",
   "execution_count": 28,
   "metadata": {},
   "outputs": [],
   "source": [
    "model.compile(optimizer=tf.optimizers.Adam(learning_rate=1e-3),\n",
    "              loss=tf.keras.losses.BinaryCrossentropy(),\n",
    "              metrics=[tf.keras.losses.MeanSquaredError(), tf.keras.metrics.MeanAbsoluteError()])"
   ]
  },
  {
   "cell_type": "code",
   "execution_count": 29,
   "metadata": {},
   "outputs": [],
   "source": [
    "log_dir = \"logs/baseline_rightencoding/\"\n",
    "log_dir_train = log_dir + datetime.datetime.now().strftime(\"%Y%m%d-%H%M%S\")\n",
    "tensorboard = tf.keras.callbacks.TensorBoard(log_dir=log_dir_train, histogram_freq=1)\n",
    "early_stopping = EarlyStopping(monitor='val_loss',\n",
    "                               restore_best_weights=True, patience=50,\n",
    "                               verbose=0, mode='min')"
   ]
  },
  {
   "cell_type": "code",
   "execution_count": 30,
   "metadata": {},
   "outputs": [
    {
     "name": "stdout",
     "output_type": "stream",
     "text": [
      "Epoch 1/50\n",
      "182/182 [==============================] - 16s 58ms/step - loss: 0.4509 - mean_squared_error: 0.0321 - mean_absolute_error: 0.1194 - val_loss: 0.4240 - val_mean_squared_error: 0.0225 - val_mean_absolute_error: 0.0927\n",
      "Epoch 2/50\n",
      "182/182 [==============================] - 10s 55ms/step - loss: 0.4218 - mean_squared_error: 0.0218 - mean_absolute_error: 0.0915 - val_loss: 0.4190 - val_mean_squared_error: 0.0213 - val_mean_absolute_error: 0.0867\n",
      "Epoch 3/50\n",
      "182/182 [==============================] - 8s 46ms/step - loss: 0.4183 - mean_squared_error: 0.0210 - mean_absolute_error: 0.0891 - val_loss: 0.4164 - val_mean_squared_error: 0.0206 - val_mean_absolute_error: 0.0842\n",
      "Epoch 4/50\n",
      "182/182 [==============================] - 8s 46ms/step - loss: 0.4162 - mean_squared_error: 0.0205 - mean_absolute_error: 0.0878 - val_loss: 0.4154 - val_mean_squared_error: 0.0204 - val_mean_absolute_error: 0.0834\n",
      "Epoch 5/50\n",
      "182/182 [==============================] - 10s 52ms/step - loss: 0.4148 - mean_squared_error: 0.0202 - mean_absolute_error: 0.0868 - val_loss: 0.4142 - val_mean_squared_error: 0.0201 - val_mean_absolute_error: 0.0824\n",
      "Epoch 6/50\n",
      "182/182 [==============================] - 8s 46ms/step - loss: 0.4136 - mean_squared_error: 0.0199 - mean_absolute_error: 0.0858 - val_loss: 0.4132 - val_mean_squared_error: 0.0198 - val_mean_absolute_error: 0.0813\n",
      "Epoch 7/50\n",
      "182/182 [==============================] - 10s 54ms/step - loss: 0.4125 - mean_squared_error: 0.0196 - mean_absolute_error: 0.0848 - val_loss: 0.4122 - val_mean_squared_error: 0.0195 - val_mean_absolute_error: 0.0799\n",
      "Epoch 8/50\n",
      "182/182 [==============================] - 10s 52ms/step - loss: 0.4117 - mean_squared_error: 0.0194 - mean_absolute_error: 0.0840 - val_loss: 0.4113 - val_mean_squared_error: 0.0193 - val_mean_absolute_error: 0.0791\n",
      "Epoch 9/50\n",
      "182/182 [==============================] - 10s 53ms/step - loss: 0.4110 - mean_squared_error: 0.0193 - mean_absolute_error: 0.0832 - val_loss: 0.4105 - val_mean_squared_error: 0.0191 - val_mean_absolute_error: 0.0786\n",
      "Epoch 10/50\n",
      "182/182 [==============================] - 10s 52ms/step - loss: 0.4104 - mean_squared_error: 0.0191 - mean_absolute_error: 0.0827 - val_loss: 0.4098 - val_mean_squared_error: 0.0189 - val_mean_absolute_error: 0.0775\n",
      "Epoch 11/50\n",
      "182/182 [==============================] - 8s 46ms/step - loss: 0.4099 - mean_squared_error: 0.0190 - mean_absolute_error: 0.0823 - val_loss: 0.4094 - val_mean_squared_error: 0.0189 - val_mean_absolute_error: 0.0774\n",
      "Epoch 12/50\n",
      "182/182 [==============================] - 9s 46ms/step - loss: 0.4094 - mean_squared_error: 0.0189 - mean_absolute_error: 0.0817 - val_loss: 0.4089 - val_mean_squared_error: 0.0187 - val_mean_absolute_error: 0.0768\n",
      "Epoch 13/50\n",
      "182/182 [==============================] - 10s 52ms/step - loss: 0.4090 - mean_squared_error: 0.0188 - mean_absolute_error: 0.0814 - val_loss: 0.4085 - val_mean_squared_error: 0.0186 - val_mean_absolute_error: 0.0767\n",
      "Epoch 14/50\n",
      "182/182 [==============================] - 9s 52ms/step - loss: 0.4086 - mean_squared_error: 0.0186 - mean_absolute_error: 0.0809 - val_loss: 0.4080 - val_mean_squared_error: 0.0185 - val_mean_absolute_error: 0.0761\n",
      "Epoch 15/50\n",
      "182/182 [==============================] - 10s 53ms/step - loss: 0.4080 - mean_squared_error: 0.0185 - mean_absolute_error: 0.0805 - val_loss: 0.4072 - val_mean_squared_error: 0.0183 - val_mean_absolute_error: 0.0767\n",
      "Epoch 16/50\n",
      "182/182 [==============================] - 10s 53ms/step - loss: 0.4076 - mean_squared_error: 0.0184 - mean_absolute_error: 0.0802 - val_loss: 0.4069 - val_mean_squared_error: 0.0182 - val_mean_absolute_error: 0.0763\n",
      "Epoch 17/50\n",
      "182/182 [==============================] - 10s 54ms/step - loss: 0.4072 - mean_squared_error: 0.0183 - mean_absolute_error: 0.0799 - val_loss: 0.4063 - val_mean_squared_error: 0.0181 - val_mean_absolute_error: 0.0761\n",
      "Epoch 18/50\n",
      "182/182 [==============================] - 9s 47ms/step - loss: 0.4066 - mean_squared_error: 0.0182 - mean_absolute_error: 0.0795 - val_loss: 0.4055 - val_mean_squared_error: 0.0179 - val_mean_absolute_error: 0.0763\n",
      "Epoch 19/50\n",
      "182/182 [==============================] - 9s 50ms/step - loss: 0.4060 - mean_squared_error: 0.0180 - mean_absolute_error: 0.0790 - val_loss: 0.4048 - val_mean_squared_error: 0.0177 - val_mean_absolute_error: 0.0772\n",
      "Epoch 20/50\n",
      "182/182 [==============================] - 8s 43ms/step - loss: 0.4055 - mean_squared_error: 0.0179 - mean_absolute_error: 0.0785 - val_loss: 0.4045 - val_mean_squared_error: 0.0176 - val_mean_absolute_error: 0.0781\n",
      "Epoch 21/50\n",
      "182/182 [==============================] - 9s 48ms/step - loss: 0.4049 - mean_squared_error: 0.0178 - mean_absolute_error: 0.0780 - val_loss: 0.4042 - val_mean_squared_error: 0.0175 - val_mean_absolute_error: 0.0781\n",
      "Epoch 22/50\n",
      "182/182 [==============================] - 9s 52ms/step - loss: 0.4045 - mean_squared_error: 0.0177 - mean_absolute_error: 0.0778 - val_loss: 0.4040 - val_mean_squared_error: 0.0175 - val_mean_absolute_error: 0.0782\n",
      "Epoch 23/50\n",
      "182/182 [==============================] - 8s 45ms/step - loss: 0.4041 - mean_squared_error: 0.0176 - mean_absolute_error: 0.0776 - val_loss: 0.4032 - val_mean_squared_error: 0.0174 - val_mean_absolute_error: 0.0760\n",
      "Epoch 24/50\n",
      "182/182 [==============================] - 8s 45ms/step - loss: 0.4038 - mean_squared_error: 0.0175 - mean_absolute_error: 0.0773 - val_loss: 0.4028 - val_mean_squared_error: 0.0173 - val_mean_absolute_error: 0.0759\n",
      "Epoch 25/50\n",
      "182/182 [==============================] - 10s 52ms/step - loss: 0.4035 - mean_squared_error: 0.0174 - mean_absolute_error: 0.0771 - val_loss: 0.4028 - val_mean_squared_error: 0.0173 - val_mean_absolute_error: 0.0750\n",
      "Epoch 26/50\n",
      "182/182 [==============================] - 9s 51ms/step - loss: 0.4031 - mean_squared_error: 0.0173 - mean_absolute_error: 0.0768 - val_loss: 0.4023 - val_mean_squared_error: 0.0171 - val_mean_absolute_error: 0.0753\n",
      "Epoch 27/50\n",
      "182/182 [==============================] - 9s 50ms/step - loss: 0.4028 - mean_squared_error: 0.0172 - mean_absolute_error: 0.0767 - val_loss: 0.4018 - val_mean_squared_error: 0.0170 - val_mean_absolute_error: 0.0749\n",
      "Epoch 28/50\n",
      "182/182 [==============================] - 9s 51ms/step - loss: 0.4024 - mean_squared_error: 0.0171 - mean_absolute_error: 0.0764 - val_loss: 0.4014 - val_mean_squared_error: 0.0169 - val_mean_absolute_error: 0.0745\n",
      "Epoch 29/50\n",
      "182/182 [==============================] - 10s 53ms/step - loss: 0.4021 - mean_squared_error: 0.0170 - mean_absolute_error: 0.0761 - val_loss: 0.4009 - val_mean_squared_error: 0.0167 - val_mean_absolute_error: 0.0744\n",
      "Epoch 30/50\n",
      "182/182 [==============================] - 9s 51ms/step - loss: 0.4015 - mean_squared_error: 0.0168 - mean_absolute_error: 0.0756 - val_loss: 0.4004 - val_mean_squared_error: 0.0166 - val_mean_absolute_error: 0.0745\n",
      "Epoch 31/50\n",
      "182/182 [==============================] - 10s 54ms/step - loss: 0.4012 - mean_squared_error: 0.0167 - mean_absolute_error: 0.0753 - val_loss: 0.4000 - val_mean_squared_error: 0.0164 - val_mean_absolute_error: 0.0738\n",
      "Epoch 32/50\n",
      "182/182 [==============================] - 10s 53ms/step - loss: 0.4005 - mean_squared_error: 0.0165 - mean_absolute_error: 0.0747 - val_loss: 0.3997 - val_mean_squared_error: 0.0163 - val_mean_absolute_error: 0.0731\n",
      "Epoch 33/50\n",
      "182/182 [==============================] - 8s 44ms/step - loss: 0.4002 - mean_squared_error: 0.0164 - mean_absolute_error: 0.0744 - val_loss: 0.3994 - val_mean_squared_error: 0.0162 - val_mean_absolute_error: 0.0730\n",
      "Epoch 34/50\n",
      "182/182 [==============================] - 10s 53ms/step - loss: 0.4000 - mean_squared_error: 0.0163 - mean_absolute_error: 0.0743 - val_loss: 0.3988 - val_mean_squared_error: 0.0160 - val_mean_absolute_error: 0.0722\n",
      "Epoch 35/50\n",
      "182/182 [==============================] - 9s 48ms/step - loss: 0.3997 - mean_squared_error: 0.0162 - mean_absolute_error: 0.0738 - val_loss: 0.3985 - val_mean_squared_error: 0.0159 - val_mean_absolute_error: 0.0719\n",
      "Epoch 36/50\n",
      "182/182 [==============================] - 10s 55ms/step - loss: 0.3996 - mean_squared_error: 0.0161 - mean_absolute_error: 0.0738 - val_loss: 0.3983 - val_mean_squared_error: 0.0158 - val_mean_absolute_error: 0.0719\n",
      "Epoch 37/50\n",
      "182/182 [==============================] - 10s 52ms/step - loss: 0.3991 - mean_squared_error: 0.0160 - mean_absolute_error: 0.0732 - val_loss: 0.3982 - val_mean_squared_error: 0.0158 - val_mean_absolute_error: 0.0714\n",
      "Epoch 38/50\n",
      "182/182 [==============================] - 10s 55ms/step - loss: 0.3989 - mean_squared_error: 0.0159 - mean_absolute_error: 0.0729 - val_loss: 0.3979 - val_mean_squared_error: 0.0157 - val_mean_absolute_error: 0.0714\n",
      "Epoch 39/50\n",
      "182/182 [==============================] - 8s 42ms/step - loss: 0.3989 - mean_squared_error: 0.0159 - mean_absolute_error: 0.0728 - val_loss: 0.3978 - val_mean_squared_error: 0.0156 - val_mean_absolute_error: 0.0711\n",
      "Epoch 40/50\n",
      "182/182 [==============================] - 9s 47ms/step - loss: 0.3986 - mean_squared_error: 0.0158 - mean_absolute_error: 0.0724 - val_loss: 0.3977 - val_mean_squared_error: 0.0155 - val_mean_absolute_error: 0.0704\n",
      "Epoch 41/50\n",
      "182/182 [==============================] - 10s 54ms/step - loss: 0.3985 - mean_squared_error: 0.0158 - mean_absolute_error: 0.0723 - val_loss: 0.3975 - val_mean_squared_error: 0.0155 - val_mean_absolute_error: 0.0701\n",
      "Epoch 42/50\n",
      "182/182 [==============================] - 10s 53ms/step - loss: 0.3981 - mean_squared_error: 0.0157 - mean_absolute_error: 0.0717 - val_loss: 0.3972 - val_mean_squared_error: 0.0154 - val_mean_absolute_error: 0.0698\n",
      "Epoch 43/50\n",
      "182/182 [==============================] - 10s 53ms/step - loss: 0.3981 - mean_squared_error: 0.0156 - mean_absolute_error: 0.0717 - val_loss: 0.3970 - val_mean_squared_error: 0.0153 - val_mean_absolute_error: 0.0691\n",
      "Epoch 44/50\n",
      "182/182 [==============================] - 10s 55ms/step - loss: 0.3979 - mean_squared_error: 0.0155 - mean_absolute_error: 0.0713 - val_loss: 0.3970 - val_mean_squared_error: 0.0153 - val_mean_absolute_error: 0.0689\n",
      "Epoch 45/50\n",
      "182/182 [==============================] - 10s 55ms/step - loss: 0.3976 - mean_squared_error: 0.0154 - mean_absolute_error: 0.0709 - val_loss: 0.3969 - val_mean_squared_error: 0.0152 - val_mean_absolute_error: 0.0694\n",
      "Epoch 46/50\n",
      "182/182 [==============================] - 8s 46ms/step - loss: 0.3974 - mean_squared_error: 0.0153 - mean_absolute_error: 0.0707 - val_loss: 0.3969 - val_mean_squared_error: 0.0152 - val_mean_absolute_error: 0.0685\n",
      "Epoch 47/50\n",
      "182/182 [==============================] - 8s 43ms/step - loss: 0.3973 - mean_squared_error: 0.0153 - mean_absolute_error: 0.0705 - val_loss: 0.3976 - val_mean_squared_error: 0.0153 - val_mean_absolute_error: 0.0688\n",
      "Epoch 48/50\n",
      "182/182 [==============================] - 10s 53ms/step - loss: 0.3971 - mean_squared_error: 0.0152 - mean_absolute_error: 0.0701 - val_loss: 0.3971 - val_mean_squared_error: 0.0152 - val_mean_absolute_error: 0.0682\n",
      "Epoch 49/50\n",
      "182/182 [==============================] - 8s 46ms/step - loss: 0.3969 - mean_squared_error: 0.0151 - mean_absolute_error: 0.0700 - val_loss: 0.3965 - val_mean_squared_error: 0.0151 - val_mean_absolute_error: 0.0679\n",
      "Epoch 50/50\n",
      "182/182 [==============================] - 9s 50ms/step - loss: 0.3970 - mean_squared_error: 0.0151 - mean_absolute_error: 0.0699 - val_loss: 0.3963 - val_mean_squared_error: 0.0150 - val_mean_absolute_error: 0.0680\n"
     ]
    },
    {
     "data": {
      "text/plain": [
       "<keras.callbacks.History at 0x7fb0ca04c3d0>"
      ]
     },
     "execution_count": 30,
     "metadata": {},
     "output_type": "execute_result"
    }
   ],
   "source": [
    "model.fit(train_ds,\n",
    "          epochs=50,\n",
    "          validation_data=val_ds,\n",
    "          callbacks=[tensorboard, early_stopping],\n",
    "          verbose=1)"
   ]
  },
  {
   "cell_type": "code",
   "execution_count": 31,
   "metadata": {},
   "outputs": [
    {
     "name": "stdout",
     "output_type": "stream",
     "text": [
      "Model: \"sequential_2\"\n",
      "_________________________________________________________________\n",
      " Layer (type)                Output Shape              Param #   \n",
      "=================================================================\n",
      " dense_12 (Dense)            (None, 12)                84        \n",
      "                                                                 \n",
      " dense_13 (Dense)            (None, 12)                156       \n",
      "                                                                 \n",
      " dense_14 (Dense)            (None, 6)                 78        \n",
      "                                                                 \n",
      " dense_15 (Dense)            (None, 128)               896       \n",
      "                                                                 \n",
      " dense_16 (Dense)            (None, 128)               16512     \n",
      "                                                                 \n",
      " dense_17 (Dense)            (None, 1)                 129       \n",
      "                                                                 \n",
      "=================================================================\n",
      "Total params: 17,855\n",
      "Trainable params: 17,855\n",
      "Non-trainable params: 0\n",
      "_________________________________________________________________\n"
     ]
    }
   ],
   "source": [
    "model.summary()"
   ]
  },
  {
   "cell_type": "code",
   "execution_count": 32,
   "metadata": {},
   "outputs": [],
   "source": [
    "model.save_weights(log_dir + \"model_weights\")"
   ]
  }
 ],
 "metadata": {
  "kernelspec": {
   "display_name": "XPLORE",
   "language": "python",
   "name": "python3"
  },
  "language_info": {
   "codemirror_mode": {
    "name": "ipython",
    "version": 3
   },
   "file_extension": ".py",
   "mimetype": "text/x-python",
   "name": "python",
   "nbconvert_exporter": "python",
   "pygments_lexer": "ipython3",
   "version": "3.9.16"
  },
  "orig_nbformat": 4
 },
 "nbformat": 4,
 "nbformat_minor": 2
}
