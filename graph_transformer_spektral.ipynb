{
 "cells": [
  {
   "cell_type": "code",
   "execution_count": null,
   "metadata": {},
   "outputs": [],
   "source": [
    "import datetime\n",
    "import numpy as np\n",
    "import os\n",
    "import pandas as pd\n",
    "import spektral\n",
    "import tensorflow as tf\n",
    "import tensorflow_addons as tfa\n",
    "\n",
    "from keras.callbacks import EarlyStopping, ModelCheckpoint, ReduceLROnPlateau\n",
    "from keras.engine.input_layer import InputLayer\n",
    "from keras.models import load_model\n",
    "from keras.layers import Activation\n",
    "from keras import backend as K\n",
    "from scipy.sparse import csr_array, csr_matrix, load_npz\n",
    "\n",
    "tf.keras.backend.set_floatx('float32')\n",
    "print(\"GPUs: {}\".format(len(tf.config.list_physical_devices(\"GPU\"))))"
   ]
  },
  {
   "cell_type": "code",
   "execution_count": null,
   "metadata": {},
   "outputs": [],
   "source": [
    "class GraphDataset(spektral.data.Dataset):\n",
    "    def __init__(self, path, **kwargs):\n",
    "        self.data_path = path\n",
    "        super().__init__(**kwargs)\n",
    "\n",
    "    def read(self):\n",
    "        output = []\n",
    "        for i in range(int(len(os.listdir(self.data_path))/2)):\n",
    "            graph = np.load(self.data_path + \"graph_{}.npz\".format(i))\n",
    "            adjacency = load_npz(self.data_path + \"adjacency_{}.npz\".format(i))\n",
    "            output.append(spektral.data.graph.Graph(x=graph['x'],\n",
    "                                                    a=adjacency,\n",
    "                                                    y=graph['y']))\n",
    "        return output"
   ]
  },
  {
   "cell_type": "code",
   "execution_count": null,
   "metadata": {},
   "outputs": [],
   "source": [
    "train_ds = GraphDataset(\"dataset/train/\")\n",
    "test_ds = GraphDataset(\"dataset/test/\")\n",
    "val_ds = GraphDataset(\"dataset/validation/\")"
   ]
  },
  {
   "cell_type": "code",
   "execution_count": null,
   "metadata": {},
   "outputs": [],
   "source": [
    "loader_train = spektral.data.BatchLoader(train_ds, batch_size=1, shuffle=False)\n",
    "loader_test = spektral.data.BatchLoader(test_ds, batch_size=1, shuffle=False)\n",
    "loader_val = spektral.data.BatchLoader(val_ds, batch_size=1, shuffle=False)"
   ]
  },
  {
   "cell_type": "code",
   "execution_count": null,
   "metadata": {},
   "outputs": [],
   "source": [
    "class GraphAttentionNetwork(tf.keras.models.Model):\n",
    "    def __init__(self, nlayers=1, dim_features=10, dim_global_features=6, dropout=0.5):\n",
    "        super().__init__()\n",
    "        self.nlayers = nlayers\n",
    "        self.dim_features = dim_features\n",
    "        self.dim_global_features = dim_global_features\n",
    "        self.dropout = dropout\n",
    "\n",
    "        self.attention = []\n",
    "        self.skip = []\n",
    "        for i in range(self.nlayers):\n",
    "            self.attention.append(spektral.layers.GATConv(channels=self.dim_features, attn_heads=1, dropout_rate=self.dropout))\n",
    "            self.skip.append(tf.keras.layers.Dense(self.dim_features, activation=\"relu\", use_bias=True))\n",
    "\n",
    "        self.avgpool = spektral.layers.GlobalAvgPool()\n",
    "        self.layernorm = tf.keras.layers.LayerNormalization(axis=-1)\n",
    "        self.concat = tf.keras.layers.Concatenate(axis=-1)\n",
    "\n",
    "        self.regression = [tf.keras.layers.Dense(128, activation=\"relu\", use_bias=True)]\n",
    "        self.regression.append(tf.keras.layers.Dense(128, activation=\"relu\", use_bias=True))\n",
    "        self.regression.append(tf.keras.layers.Dense(1, activation=\"sigmoid\", use_bias=True)) \n",
    "\n",
    "        self.global_features = [tf.keras.layers.Dense(12, activation=\"relu\", use_bias=True)]\n",
    "        self.global_features.append(tf.keras.layers.Dense(12, activation=\"relu\", use_bias=True))\n",
    "        self.global_features.append(tf.keras.layers.Dense(6, activation=\"relu\", use_bias=True))\n",
    "\n",
    "    def call(self, inputs):\n",
    "        x = inputs[0][:,1:,:]\n",
    "        a = inputs[1][:,:-1,:-1]\n",
    "        gf = inputs[0][:,0,:6]\n",
    "\n",
    "        for (attention_layer, skip_layer) in zip(self.attention, self.skip):\n",
    "            x_attention = attention_layer([x,a])\n",
    "            x_skip = skip_layer(x)\n",
    "            x = x_skip + x_attention\n",
    "            x = self.layernorm(x)\n",
    "        \n",
    "        x = self.avgpool(x)\n",
    "\n",
    "        for layer in self.global_features:\n",
    "            gf = layer(gf)\n",
    "        \n",
    "        x = self.concat([x, gf])\n",
    "        \n",
    "        for layer in self.regression:\n",
    "            x = layer(x)\n",
    "        return x"
   ]
  },
  {
   "cell_type": "code",
   "execution_count": null,
   "metadata": {},
   "outputs": [],
   "source": [
    "layers = 1\n",
    "model = GraphAttentionNetwork(nlayers=layers)\n",
    "model.compile(optimizer=tf.optimizers.Adam(learning_rate=1e-3),\n",
    "              loss=tf.keras.losses.BinaryCrossentropy(),\n",
    "              metrics=[tf.keras.losses.MeanSquaredError(), tf.keras.metrics.MeanAbsoluteError()])"
   ]
  },
  {
   "cell_type": "code",
   "execution_count": null,
   "metadata": {},
   "outputs": [],
   "source": [
    "log_dir = \"logs/test/\"\n",
    "log_dir_train = log_dir + datetime.datetime.now().strftime(\"%Y%m%d-%H%M%S\")\n",
    "tensorboard = tf.keras.callbacks.TensorBoard(log_dir=log_dir_train, histogram_freq=1)\n",
    "early_stopping = EarlyStopping(monitor='val_loss',\n",
    "                               restore_best_weights=True, patience=50,\n",
    "                               verbose=0, mode='min')"
   ]
  },
  {
   "cell_type": "code",
   "execution_count": null,
   "metadata": {},
   "outputs": [],
   "source": [
    "model.fit(loader_train.load(),\n",
    "          steps_per_epoch=loader_train.steps_per_epoch,\n",
    "          epochs=50,\n",
    "          validation_data=loader_val.load(),\n",
    "          validation_steps=loader_val.steps_per_epoch,\n",
    "          callbacks=[tensorboard, early_stopping],\n",
    "          verbose=1)"
   ]
  },
  {
   "cell_type": "code",
   "execution_count": null,
   "metadata": {},
   "outputs": [],
   "source": [
    "model.summary()"
   ]
  },
  {
   "cell_type": "code",
   "execution_count": null,
   "metadata": {},
   "outputs": [],
   "source": [
    "model.save_weights(log_dir + \"model_weights\")"
   ]
  }
 ],
 "metadata": {
  "kernelspec": {
   "display_name": "XPLORE",
   "language": "python",
   "name": "python3"
  },
  "language_info": {
   "codemirror_mode": {
    "name": "ipython",
    "version": 3
   },
   "file_extension": ".py",
   "mimetype": "text/x-python",
   "name": "python",
   "nbconvert_exporter": "python",
   "pygments_lexer": "ipython3",
   "version": "3.9.16"
  },
  "orig_nbformat": 4
 },
 "nbformat": 4,
 "nbformat_minor": 2
}
