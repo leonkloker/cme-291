{
 "cells": [
  {
   "cell_type": "code",
   "execution_count": null,
   "metadata": {},
   "outputs": [],
   "source": [
    "from copy import deepcopy\n",
    "import pandas as pd\n",
    "import pickle\n",
    "import numpy as np\n",
    "import os\n",
    "import matplotlib.pyplot as plt\n",
    "\n",
    "import tensorflow as tf\n",
    "import tensorflow_gnn as tfgnn\n",
    "from keras.engine.input_layer import InputLayer\n",
    "from keras.models import load_model\n",
    "from keras.layers import Activation\n",
    "from keras import backend as K\n",
    "import keras\n",
    "from tensorflow.keras import datasets, layers, models\n",
    "\n",
    "tf.keras.backend.set_floatx('float32')\n",
    "\n",
    "%matplotlib inline\n",
    "%load_ext autoreload\n",
    "%autoreload 2"
   ]
  },
  {
   "cell_type": "code",
   "execution_count": null,
   "metadata": {},
   "outputs": [],
   "source": [
    "data_path = \"../data/mcb-7/ibmq_belem/Pauli_Stochastic/\"\n",
    "x_path = data_path + \"circuits/all_circuits_11.npz\"\n",
    "y_path = data_path + \"indices/all_circuit_indices_11.npz\""
   ]
  },
  {
   "cell_type": "code",
   "execution_count": null,
   "metadata": {},
   "outputs": [],
   "source": [
    "x_data = np.load(x_path)\n",
    "x_train = x_data[\"train\"]\n",
    "x_val = x_data[\"validate\"]\n",
    "x_test = x_data[\"test\"]\n",
    "\n",
    "y_data = np.load(y_path)\n",
    "y_train = y_data[\"train\"]\n",
    "y_val = y_data[\"validate\"]\n",
    "y_test = y_data[\"test\"]"
   ]
  },
  {
   "cell_type": "code",
   "execution_count": null,
   "metadata": {},
   "outputs": [],
   "source": [
    "# 1st dimension: Index for training samples\n",
    "# 2nd dimension: Index for Qubits (5 for ibm Belem)\n",
    "# 3rd dimension: Index for moments of quantum circuit (zero padding to maximum)\n",
    "# 4th dimension: One-hot encoding of different quantum gates (+ additional state info)\n",
    "print(x_train.shape)\n",
    "print(y_train.shape)"
   ]
  },
  {
   "cell_type": "code",
   "execution_count": null,
   "metadata": {},
   "outputs": [],
   "source": [
    "def create_graph_tensor(numpy_encoding, qubit_adjacency=[[0,1], [1,2], [1,3], [3,4]]):\n",
    "    \"\"\" Takes the 3-tensor numpy encoding of one quantum circuit and the architecture of a quantum computer\n",
    "    and turns the numpy encoding into a graph tensor.\n",
    "    \"\"\"\n",
    "\n",
    "    nmoments = np.where(np.sum((numpy_encoding != 0), axis=(0,2)) == 0)[0]\n",
    "    if len(nmoments) == 0:\n",
    "        nmoments = numpy_encoding.shape[1]\n",
    "    else:\n",
    "        nmoments = nmoments[0]\n",
    "\n",
    "    nqubits = numpy_encoding.shape[0]\n",
    "    gate_encoding_size = numpy_encoding.shape[2]\n",
    "    qubit_adjacency = np.array(qubit_adjacency, dtype=\"int32\")\n",
    "    edge_source_idx = qubit_adjacency\n",
    "\n",
    "    for i in range(1,nmoments):\n",
    "        edge_source_idx = np.concatenate((edge_source_idx, qubit_adjacency+(i*nqubits)), axis=0, dtype=\"int32\")\n",
    "    \n",
    "    if nmoments > 1:\n",
    "        qubit_idx = np.arange(nqubits, dtype=\"int32\").reshape(nqubits,-1)\n",
    "        qubit_idx = np.concatenate((qubit_idx, qubit_idx+nqubits), axis=1)\n",
    "        moment_adjacency = qubit_idx\n",
    "\n",
    "        for i in range(2,nmoments):\n",
    "            moment_adjacency = np.concatenate((moment_adjacency, qubit_idx+(i-1)*nqubits), axis=0, dtype=\"int32\")\n",
    "\n",
    "        edge_source_idx = np.concatenate((edge_source_idx, moment_adjacency), axis=0, dtype=\"int32\")\n",
    "\n",
    "\n",
    "    graph_tensor = tfgnn.GraphTensor.from_pieces(\n",
    "        node_sets = {\n",
    "            \"Qubits\": tfgnn.NodeSet.from_fields(\n",
    "                sizes = [nqubits*nmoments],\n",
    "                features ={\n",
    "                    \"Gate\": np.transpose(numpy_encoding[:,0:nmoments,:], axes=(1,0,2)).reshape(nqubits*nmoments, gate_encoding_size)})},\n",
    "        edge_sets = {\n",
    "            \"Connectivity\": tfgnn.EdgeSet.from_fields(\n",
    "                sizes = [len(qubit_adjacency)*nmoments+(nmoments-1)*nqubits],\n",
    "                adjacency = tfgnn.Adjacency.from_indices(\n",
    "                    source = (\"Qubits\", edge_source_idx[:,0]),\n",
    "                    target = (\"Qubits\", edge_source_idx[:,1])))\n",
    "        }\n",
    "    )\n",
    "\n",
    "    return graph_tensor"
   ]
  },
  {
   "cell_type": "code",
   "execution_count": null,
   "metadata": {},
   "outputs": [],
   "source": [
    "def train_data_generator():\n",
    "    for (circuit, pst) in zip(x_train, y_train):\n",
    "        graph = create_graph_tensor(circuit)\n",
    "        yield graph, pst"
   ]
  },
  {
   "cell_type": "code",
   "execution_count": null,
   "metadata": {},
   "outputs": [],
   "source": [
    "BUFFER_SIZE = 200\n",
    "BATCH_SIZE = 1\n",
    "DIM_GATE_VECTOR = 10\n",
    "GLOBAL_FEATURES = 6"
   ]
  },
  {
   "cell_type": "code",
   "execution_count": null,
   "metadata": {},
   "outputs": [],
   "source": [
    "train_ds = tfgnn.dataset_from_generator(train_data_generator).batch(BATCH_SIZE)\n",
    "train_dataset = train_ds.shuffle(BUFFER_SIZE)"
   ]
  }
 ],
 "metadata": {
  "kernelspec": {
   "display_name": "XPLORE",
   "language": "python",
   "name": "python3"
  },
  "language_info": {
   "codemirror_mode": {
    "name": "ipython",
    "version": 3
   },
   "file_extension": ".py",
   "mimetype": "text/x-python",
   "name": "python",
   "nbconvert_exporter": "python",
   "pygments_lexer": "ipython3",
   "version": "3.9.16"
  },
  "orig_nbformat": 4,
  "vscode": {
   "interpreter": {
    "hash": "60a5397fe5451e64d14e93fd677a2f02374b8d13c98c13b8d5c7089a422e322e"
   }
  }
 },
 "nbformat": 4,
 "nbformat_minor": 2
}
