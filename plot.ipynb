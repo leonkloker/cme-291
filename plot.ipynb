{
 "cells": [
  {
   "cell_type": "code",
   "execution_count": null,
   "metadata": {},
   "outputs": [],
   "source": [
    "import datetime\n",
    "import matplotlib.pyplot as plt\n",
    "import numpy as np\n",
    "import os\n",
    "import pandas as pd\n",
    "import spektral\n",
    "import tensorflow as tf\n",
    "\n",
    "from scipy.sparse import csr_array, csr_matrix, load_npz\n",
    "\n",
    "tf.keras.backend.set_floatx('float32')"
   ]
  },
  {
   "cell_type": "code",
   "execution_count": null,
   "metadata": {},
   "outputs": [],
   "source": [
    "class GraphDataset(spektral.data.Dataset):\n",
    "    def __init__(self, path, **kwargs):\n",
    "        self.data_path = path\n",
    "        super().__init__(**kwargs)\n",
    "\n",
    "    def read(self):\n",
    "        output = []\n",
    "        for i in range(int(len(os.listdir(self.data_path))/2)):\n",
    "            graph = np.load(self.data_path + \"graph_{}.npz\".format(i))\n",
    "            adjacency = load_npz(self.data_path + \"adjacency_{}.npz\".format(i))\n",
    "            output.append(spektral.data.graph.Graph(x=graph['x'],\n",
    "                                                    a=adjacency,\n",
    "                                                    y=graph['y']))\n",
    "        return output"
   ]
  },
  {
   "cell_type": "code",
   "execution_count": null,
   "metadata": {},
   "outputs": [],
   "source": [
    "train_ds = GraphDataset(\"dataset/train/\")\n",
    "test_ds = GraphDataset(\"dataset/test/\")\n",
    "val_ds = GraphDataset(\"dataset/validation/\")"
   ]
  },
  {
   "cell_type": "code",
   "execution_count": null,
   "metadata": {},
   "outputs": [],
   "source": [
    "class GraphAttentionNetwork(tf.keras.models.Model):\n",
    "    def __init__(self, nlayers=1, dim_features=10, dim_global_features=6, dropout=0.5):\n",
    "        super().__init__()\n",
    "        self.nlayers = nlayers\n",
    "        self.dim_features = dim_features\n",
    "        self.dim_global_features = dim_global_features\n",
    "        self.dropout = dropout\n",
    "\n",
    "        self.attention = []\n",
    "        self.skip = []\n",
    "        for i in range(self.nlayers):\n",
    "            self.attention.append(spektral.layers.GATConv(channels=self.dim_features, attn_heads=1, dropout_rate=self.dropout))\n",
    "            self.skip.append(tf.keras.layers.Dense(self.dim_features, activation=\"relu\", use_bias=True))\n",
    "\n",
    "        self.avgpool = spektral.layers.GlobalAvgPool()\n",
    "        self.layernorm = tf.keras.layers.LayerNormalization(axis=-1)\n",
    "        self.concat = tf.keras.layers.Concatenate(axis=-1)\n",
    "\n",
    "        self.regression = [tf.keras.layers.Dense(128, activation=\"relu\", use_bias=True)]\n",
    "        self.regression.append(tf.keras.layers.Dense(128, activation=\"relu\", use_bias=True))\n",
    "        self.regression.append(tf.keras.layers.Dense(1, activation=\"sigmoid\", use_bias=True)) \n",
    "\n",
    "        self.global_features = [tf.keras.layers.Dense(12, activation=\"relu\", use_bias=True)]\n",
    "        self.global_features.append(tf.keras.layers.Dense(12, activation=\"relu\", use_bias=True))\n",
    "        self.global_features.append(tf.keras.layers.Dense(6, activation=\"relu\", use_bias=True))\n",
    "\n",
    "\n",
    "    def call(self, inputs):\n",
    "        x = inputs[0][:,1:,:]\n",
    "        a = inputs[1][:,:-1,:-1]\n",
    "        gf = inputs[0][:,0,:6]\n",
    "\n",
    "        for (attention_layer, skip_layer) in zip(self.attention, self.skip):\n",
    "            x = self.layernorm(x)\n",
    "            x_attention = attention_layer([x,a])\n",
    "            x_skip = skip_layer(x)\n",
    "            x = x_skip + x_attention\n",
    "        \n",
    "        x = self.layernorm(x)\n",
    "        x = self.avgpool(x)\n",
    "\n",
    "        for layer in self.global_features:\n",
    "            gf = layer(gf)\n",
    "        \n",
    "        x = self.concat([x, gf])\n",
    "        \n",
    "        for layer in self.regression:\n",
    "            x = layer(x)\n",
    "        return x"
   ]
  },
  {
   "cell_type": "code",
   "execution_count": null,
   "metadata": {},
   "outputs": [],
   "source": [
    "model = GraphAttentionNetwork(nlayers=1)\n",
    "model.load_weights(\"./logs/graphattention/quest/1_layers_rightencoding/model_weights\")"
   ]
  },
  {
   "cell_type": "code",
   "execution_count": null,
   "metadata": {},
   "outputs": [],
   "source": [
    "def predict_dataset(model, ds):\n",
    "    predictions = []\n",
    "    for i, graph in enumerate(ds):\n",
    "        x = graph.x.reshape(1, graph.x.shape[0], graph.x.shape[1])\n",
    "        a = graph.a.toarray()\n",
    "        a = np.pad(a, ((0,1),(0,1)))\n",
    "        a = a.reshape(1, a.shape[0], a.shape[1])\n",
    "        predictions.append(float(model([x,a], training=False)))\n",
    "        if i % 1000 == 0:\n",
    "            print(\"Step\", i)\n",
    "    return predictions"
   ]
  },
  {
   "cell_type": "code",
   "execution_count": null,
   "metadata": {},
   "outputs": [],
   "source": [
    "train_predictions = predict_dataset(model, train_ds)\n",
    "test_predictions = predict_dataset(model, test_ds)\n",
    "\n",
    "train_y = [float(graph.y) for graph in train_ds]\n",
    "test_y = [float(graph.y) for graph in test_ds]\n",
    "\n",
    "kl = sum([-p*np.log(q/p) - (1-p)*np.log((1-q)/(1-p)) for p,q in zip(test_y, test_predictions)])/len(test_y)"
   ]
  },
  {
   "cell_type": "code",
   "execution_count": null,
   "metadata": {},
   "outputs": [],
   "source": [
    "predictions_sandia = np.load(\"../data/mcb-7/ibmq_belem/Pauli_Stochastic/predictions/none_Shots/nn_predictions.npz\")\n",
    "sandia_kl = sum([-p*np.log(q/p) - (1-p)*np.log((1-q)/(1-p)) for p,q in zip(test_y, predictions_sandia[\"test\"])])/len(test_y)"
   ]
  },
  {
   "cell_type": "code",
   "execution_count": null,
   "metadata": {},
   "outputs": [],
   "source": [
    "plt.figure()\n",
    "plt.plot(np.linspace(0,1,1000), np.linspace(0,1,1000), color='r')\n",
    "plt.scatter(test_y, test_predictions, 8, label=\"test KL: {:.5f}\".format(kl))\n",
    "plt.scatter(train_y, train_predictions, 8, label=\"train\", alpha=0.1)\n",
    "plt.scatter(test_y, predictions_sandia[\"test\"], 8, label=\"Sandia CNN KL: {:.5f}\".format(sandia_kl))\n",
    "\n",
    "plt.xlabel(\"Success Probability\")\n",
    "plt.ylabel(\"Predicted Probability\")\n",
    "plt.title(\"1 layer GAT network\")\n",
    "plt.legend()\n",
    "plt.show()\n"
   ]
  }
 ],
 "metadata": {
  "kernelspec": {
   "display_name": "XP",
   "language": "python",
   "name": "python3"
  },
  "language_info": {
   "codemirror_mode": {
    "name": "ipython",
    "version": 3
   },
   "file_extension": ".py",
   "mimetype": "text/x-python",
   "name": "python",
   "nbconvert_exporter": "python",
   "pygments_lexer": "ipython3",
   "version": "3.9.16"
  },
  "orig_nbformat": 4
 },
 "nbformat": 4,
 "nbformat_minor": 2
}
